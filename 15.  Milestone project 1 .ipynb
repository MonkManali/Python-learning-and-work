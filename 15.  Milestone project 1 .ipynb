{
 "cells": [
  {
   "cell_type": "code",
   "execution_count": 213,
   "id": "837f809b",
   "metadata": {},
   "outputs": [
    {
     "name": "stdout",
     "output_type": "stream",
     "text": [
      "v\n",
      "l\n"
     ]
    }
   ],
   "source": [
    "board=['c','v','l']\n",
    "print(board[1])\n",
    "print(board[2])"
   ]
  },
  {
   "cell_type": "code",
   "execution_count": null,
   "id": "295346cc",
   "metadata": {},
   "outputs": [],
   "source": []
  },
  {
   "cell_type": "code",
   "execution_count": 131,
   "id": "83171146",
   "metadata": {},
   "outputs": [],
   "source": [
    "#ask player1 whether to chose x or o."
   ]
  },
  {
   "cell_type": "code",
   "execution_count": 132,
   "id": "12dd76a5",
   "metadata": {},
   "outputs": [],
   "source": [
    "#show player 1's turn with chosen symbol"
   ]
  },
  {
   "cell_type": "code",
   "execution_count": 134,
   "id": "ea360bb1",
   "metadata": {},
   "outputs": [],
   "source": [
    "#pl1 will entre his mark on the board (index pos)\n",
    "\n",
    "#display that on the board"
   ]
  },
  {
   "cell_type": "code",
   "execution_count": 135,
   "id": "9b6abce9",
   "metadata": {},
   "outputs": [],
   "source": [
    "#show player 2's turn with chosen symbol"
   ]
  },
  {
   "cell_type": "code",
   "execution_count": 136,
   "id": "232191a5",
   "metadata": {},
   "outputs": [],
   "source": [
    "#pl2 will entre his mark on the board (index pos)\n",
    "\n",
    "#display that on the board"
   ]
  },
  {
   "cell_type": "code",
   "execution_count": 137,
   "id": "8977ac4a",
   "metadata": {},
   "outputs": [],
   "source": []
  },
  {
   "cell_type": "code",
   "execution_count": 18,
   "id": "348f5e0b",
   "metadata": {},
   "outputs": [],
   "source": [
    "#Print a board\n",
    "from IPython.display import clear_output\n",
    "def display_board(pos):\n",
    "    clear_output()\n",
    "    print(pos[1] + ' |'+ pos[2] + ' |' + pos[3])\n",
    "    print('--+--+--')\n",
    "    print(pos[4]+' |'+ pos[5]+' |'+ pos[6])\n",
    "    print('--+--+--')\n",
    "    print(pos[7]+' |'+ pos[8]+' |'+ pos[9])\n"
   ]
  },
  {
   "cell_type": "code",
   "execution_count": 19,
   "id": "96b708cd",
   "metadata": {},
   "outputs": [
    {
     "name": "stdout",
     "output_type": "stream",
     "text": [
      "X |X |X\n",
      "--+--+--\n",
      "O |O |X\n",
      "--+--+--\n",
      "X |O |O\n"
     ]
    }
   ],
   "source": [
    "test_board=['#','X','X','X','O','O','X','X','O','O']\n",
    "display_board(test_board)"
   ]
  },
  {
   "cell_type": "code",
   "execution_count": 16,
   "id": "c4051249",
   "metadata": {},
   "outputs": [
    {
     "name": "stdout",
     "output_type": "stream",
     "text": [
      "Player 1, select 'X' or 'O'? :  o\n"
     ]
    },
    {
     "data": {
      "text/plain": [
       "'Player 1 = O and Player 2 = X'"
      ]
     },
     "execution_count": 16,
     "metadata": {},
     "output_type": "execute_result"
    }
   ],
   "source": [
    "player_input()  "
   ]
  },
  {
   "cell_type": "code",
   "execution_count": null,
   "id": "cb0f25f6",
   "metadata": {},
   "outputs": [],
   "source": []
  },
  {
   "cell_type": "code",
   "execution_count": 9,
   "id": "15eebf34",
   "metadata": {},
   "outputs": [
    {
     "name": "stdout",
     "output_type": "stream",
     "text": [
      "Player 1, select 'X' or 'O'? :  x\n"
     ]
    },
    {
     "data": {
      "text/plain": [
       "('X', 'O')"
      ]
     },
     "execution_count": 9,
     "metadata": {},
     "output_type": "execute_result"
    }
   ],
   "source": [
    "#Deciding player 1 input will be X or O. and hence for pl2:\n",
    "def player_input():\n",
    "   \n",
    "    Player1_marker=' '\n",
    "    while not (Player1_marker=='X' or Player1_marker=='O'):\n",
    "        \n",
    "        Player1_marker= input(\"Player 1, select 'X' or 'O'? :  \").upper()\n",
    "        \n",
    "    if Player1_marker=='X':\n",
    "        return ('X','O') \n",
    "        #print (\"Player 1 = X and Player 2 = O\")\n",
    "    else:\n",
    "        return ('O','X')\n",
    "        #print(\"Player 1 = O and Player 2 = X\")\n",
    "player_input()\n",
    "     "
   ]
  },
  {
   "cell_type": "code",
   "execution_count": 8,
   "id": "d564985c",
   "metadata": {},
   "outputs": [],
   "source": [
    "#player 1 will assign his symbol on board\n",
    "#Need - display_board(test_board), Player1_marker, and position chosen by Player 1.\n",
    "def place_of_marker(test_board,marker,position):\n",
    "    test_board[position]=marker\n"
   ]
  },
  {
   "cell_type": "code",
   "execution_count": 29,
   "id": "ed2fc2f3",
   "metadata": {},
   "outputs": [
    {
     "name": "stdout",
     "output_type": "stream",
     "text": [
      "X |X |X\n",
      "--+--+--\n",
      "O |O |$\n",
      "--+--+--\n",
      "X |O |O\n"
     ]
    }
   ],
   "source": [
    "place_of_marker(test_board,'$',6)\n",
    "display_board(test_board)"
   ]
  },
  {
   "cell_type": "code",
   "execution_count": 27,
   "id": "e91c48ec",
   "metadata": {},
   "outputs": [],
   "source": [
    "def win_check(pos, mark):\n",
    "    return ((pos[1]==mark and pos[2]==mark and pos[3]==mark) or   # Row 1\n",
    "        (pos[4]==mark and pos[5]==mark and pos[6]==mark) or      # (win Row 2)\n",
    "        (pos[7]==mark and pos[8]==mark and pos[9]==mark) or        #(win Row 3)\n",
    "        (pos[1]==mark and pos[4]==mark and pos[7]==mark) or        #(Win column1)\n",
    "        (pos[2]==mark and pos[5]==mark and pos[8]==mark) or        # Win col 2\n",
    "        (pos[3]==mark and pos[6]==mark and pos[9]==mark) or        # win col 3\n",
    "        (pos[1]==mark and pos[5]==mark and pos[9]==mark) or        # Diagonal 1\n",
    "        (pos[3]==mark and pos[5]==mark and pos[7]==mark))          # Diagonal 2"
   ]
  },
  {
   "cell_type": "code",
   "execution_count": 28,
   "id": "75f1a051",
   "metadata": {},
   "outputs": [
    {
     "data": {
      "text/plain": [
       "True"
      ]
     },
     "execution_count": 28,
     "metadata": {},
     "output_type": "execute_result"
    }
   ],
   "source": [
    "win_check(test_board,'X')"
   ]
  },
  {
   "cell_type": "code",
   "execution_count": 59,
   "id": "e146b357",
   "metadata": {},
   "outputs": [],
   "source": [
    "# to check for space availibilty to mark marker by players\n",
    "def space_check(pos,position):     # Note pos = is programmer given board position and position = is desired position of player\n",
    "    return pos[position] == ' '\n",
    "    \n"
   ]
  },
  {
   "cell_type": "code",
   "execution_count": 80,
   "id": "036ddb43",
   "metadata": {},
   "outputs": [],
   "source": [
    "# Check if board is full, retrun to a boolean True if board is full or else false.\n",
    "def board_full_check(pos):\n",
    "    for i in range(1,10):\n",
    "        if space_check(pos,i):\n",
    "            return False\n",
    "    return True"
   ]
  },
  {
   "cell_type": "code",
   "execution_count": 81,
   "id": "93c758c4",
   "metadata": {},
   "outputs": [
    {
     "data": {
      "text/plain": [
       "True"
      ]
     },
     "execution_count": 81,
     "metadata": {},
     "output_type": "execute_result"
    }
   ],
   "source": [
    "board_full_check(test_board)"
   ]
  },
  {
   "cell_type": "code",
   "execution_count": 54,
   "id": "b5352cf7",
   "metadata": {},
   "outputs": [],
   "source": [
    "import random\n",
    "\n",
    "def choose_first():\n",
    "    if random.randint(0, 1) == 0:\n",
    "        return 'Player 2'\n",
    "    else:\n",
    "        return 'Player 1'"
   ]
  },
  {
   "cell_type": "code",
   "execution_count": 55,
   "id": "59f83b2c",
   "metadata": {},
   "outputs": [],
   "source": [
    "def Player_choice(pos):\n",
    "    position =0\n",
    "    while position not in [1,2,3,4,5,6,7,8,9] or not space_check(pos,position):\n",
    "        position= int(input(\"Chose ur position from 1 to 9: \"))\n",
    "    return position"
   ]
  },
  {
   "cell_type": "code",
   "execution_count": 56,
   "id": "08719bfc",
   "metadata": {},
   "outputs": [],
   "source": [
    "def ask_to_play_again(reply):\n",
    "    reply=\"Dont Know\"\n",
    "    \n",
    "    reply= input(\"Do you want to play again? Yes or No?:  \")\n",
    "    if reply=='Yes'.upper():\n",
    "        return True\n",
    "    else:\n",
    "        return False\n",
    "    "
   ]
  },
  {
   "cell_type": "code",
   "execution_count": 84,
   "id": "a59d52f7",
   "metadata": {},
   "outputs": [
    {
     "name": "stdout",
     "output_type": "stream",
     "text": [
      "X |O |X\n",
      "--+--+--\n",
      "O |X |O\n",
      "--+--+--\n",
      "X |  | \n",
      "Congrats player 2 u have won !\n"
     ]
    },
    {
     "ename": "KeyboardInterrupt",
     "evalue": "Interrupted by user",
     "output_type": "error",
     "traceback": [
      "\u001b[1;31m---------------------------------------------------------------------------\u001b[0m",
      "\u001b[1;31mKeyboardInterrupt\u001b[0m                         Traceback (most recent call last)",
      "\u001b[1;32m~\\AppData\\Local\\Temp/ipykernel_11616/876027045.py\u001b[0m in \u001b[0;36m<module>\u001b[1;34m\u001b[0m\n\u001b[0;32m      3\u001b[0m \u001b[1;32mwhile\u001b[0m \u001b[1;32mTrue\u001b[0m\u001b[1;33m:\u001b[0m\u001b[1;33m\u001b[0m\u001b[1;33m\u001b[0m\u001b[0m\n\u001b[0;32m      4\u001b[0m     \u001b[0mtheBoard\u001b[0m\u001b[1;33m=\u001b[0m\u001b[1;33m[\u001b[0m\u001b[1;34m' '\u001b[0m\u001b[1;33m]\u001b[0m\u001b[1;33m*\u001b[0m\u001b[1;36m10\u001b[0m\u001b[1;33m\u001b[0m\u001b[1;33m\u001b[0m\u001b[0m\n\u001b[1;32m----> 5\u001b[1;33m     \u001b[0mPlayer1_marker\u001b[0m\u001b[1;33m,\u001b[0m \u001b[0mPlayer2_marker\u001b[0m\u001b[1;33m=\u001b[0m\u001b[0mplayer_input\u001b[0m\u001b[1;33m(\u001b[0m\u001b[1;33m)\u001b[0m\u001b[1;33m\u001b[0m\u001b[1;33m\u001b[0m\u001b[0m\n\u001b[0m\u001b[0;32m      6\u001b[0m \u001b[1;33m\u001b[0m\u001b[0m\n\u001b[0;32m      7\u001b[0m     \u001b[0mturn\u001b[0m\u001b[1;33m=\u001b[0m\u001b[0mchoose_first\u001b[0m\u001b[1;33m(\u001b[0m\u001b[1;33m)\u001b[0m\u001b[1;33m\u001b[0m\u001b[1;33m\u001b[0m\u001b[0m\n",
      "\u001b[1;32m~\\AppData\\Local\\Temp/ipykernel_11616/2301752152.py\u001b[0m in \u001b[0;36mplayer_input\u001b[1;34m()\u001b[0m\n\u001b[0;32m      5\u001b[0m     \u001b[1;32mwhile\u001b[0m \u001b[1;32mnot\u001b[0m \u001b[1;33m(\u001b[0m\u001b[0mPlayer1_marker\u001b[0m\u001b[1;33m==\u001b[0m\u001b[1;34m'X'\u001b[0m \u001b[1;32mor\u001b[0m \u001b[0mPlayer1_marker\u001b[0m\u001b[1;33m==\u001b[0m\u001b[1;34m'O'\u001b[0m\u001b[1;33m)\u001b[0m\u001b[1;33m:\u001b[0m\u001b[1;33m\u001b[0m\u001b[1;33m\u001b[0m\u001b[0m\n\u001b[0;32m      6\u001b[0m \u001b[1;33m\u001b[0m\u001b[0m\n\u001b[1;32m----> 7\u001b[1;33m         \u001b[0mPlayer1_marker\u001b[0m\u001b[1;33m=\u001b[0m \u001b[0minput\u001b[0m\u001b[1;33m(\u001b[0m\u001b[1;34m\"Player 1, select 'X' or 'O'? :  \"\u001b[0m\u001b[1;33m)\u001b[0m\u001b[1;33m.\u001b[0m\u001b[0mupper\u001b[0m\u001b[1;33m(\u001b[0m\u001b[1;33m)\u001b[0m\u001b[1;33m\u001b[0m\u001b[1;33m\u001b[0m\u001b[0m\n\u001b[0m\u001b[0;32m      8\u001b[0m \u001b[1;33m\u001b[0m\u001b[0m\n\u001b[0;32m      9\u001b[0m     \u001b[1;32mif\u001b[0m \u001b[0mPlayer1_marker\u001b[0m\u001b[1;33m==\u001b[0m\u001b[1;34m'X'\u001b[0m\u001b[1;33m:\u001b[0m\u001b[1;33m\u001b[0m\u001b[1;33m\u001b[0m\u001b[0m\n",
      "\u001b[1;32m~\\anaconda3\\lib\\site-packages\\ipykernel\\kernelbase.py\u001b[0m in \u001b[0;36mraw_input\u001b[1;34m(self, prompt)\u001b[0m\n\u001b[0;32m   1004\u001b[0m                 \u001b[1;34m\"raw_input was called, but this frontend does not support input requests.\"\u001b[0m\u001b[1;33m\u001b[0m\u001b[1;33m\u001b[0m\u001b[0m\n\u001b[0;32m   1005\u001b[0m             )\n\u001b[1;32m-> 1006\u001b[1;33m         return self._input_request(\n\u001b[0m\u001b[0;32m   1007\u001b[0m             \u001b[0mstr\u001b[0m\u001b[1;33m(\u001b[0m\u001b[0mprompt\u001b[0m\u001b[1;33m)\u001b[0m\u001b[1;33m,\u001b[0m\u001b[1;33m\u001b[0m\u001b[1;33m\u001b[0m\u001b[0m\n\u001b[0;32m   1008\u001b[0m             \u001b[0mself\u001b[0m\u001b[1;33m.\u001b[0m\u001b[0m_parent_ident\u001b[0m\u001b[1;33m[\u001b[0m\u001b[1;34m\"shell\"\u001b[0m\u001b[1;33m]\u001b[0m\u001b[1;33m,\u001b[0m\u001b[1;33m\u001b[0m\u001b[1;33m\u001b[0m\u001b[0m\n",
      "\u001b[1;32m~\\anaconda3\\lib\\site-packages\\ipykernel\\kernelbase.py\u001b[0m in \u001b[0;36m_input_request\u001b[1;34m(self, prompt, ident, parent, password)\u001b[0m\n\u001b[0;32m   1049\u001b[0m             \u001b[1;32mexcept\u001b[0m \u001b[0mKeyboardInterrupt\u001b[0m\u001b[1;33m:\u001b[0m\u001b[1;33m\u001b[0m\u001b[1;33m\u001b[0m\u001b[0m\n\u001b[0;32m   1050\u001b[0m                 \u001b[1;31m# re-raise KeyboardInterrupt, to truncate traceback\u001b[0m\u001b[1;33m\u001b[0m\u001b[1;33m\u001b[0m\u001b[0m\n\u001b[1;32m-> 1051\u001b[1;33m                 \u001b[1;32mraise\u001b[0m \u001b[0mKeyboardInterrupt\u001b[0m\u001b[1;33m(\u001b[0m\u001b[1;34m\"Interrupted by user\"\u001b[0m\u001b[1;33m)\u001b[0m \u001b[1;32mfrom\u001b[0m \u001b[1;32mNone\u001b[0m\u001b[1;33m\u001b[0m\u001b[1;33m\u001b[0m\u001b[0m\n\u001b[0m\u001b[0;32m   1052\u001b[0m             \u001b[1;32mexcept\u001b[0m \u001b[0mException\u001b[0m\u001b[1;33m:\u001b[0m\u001b[1;33m\u001b[0m\u001b[1;33m\u001b[0m\u001b[0m\n\u001b[0;32m   1053\u001b[0m                 \u001b[0mself\u001b[0m\u001b[1;33m.\u001b[0m\u001b[0mlog\u001b[0m\u001b[1;33m.\u001b[0m\u001b[0mwarning\u001b[0m\u001b[1;33m(\u001b[0m\u001b[1;34m\"Invalid Message:\"\u001b[0m\u001b[1;33m,\u001b[0m \u001b[0mexc_info\u001b[0m\u001b[1;33m=\u001b[0m\u001b[1;32mTrue\u001b[0m\u001b[1;33m)\u001b[0m\u001b[1;33m\u001b[0m\u001b[1;33m\u001b[0m\u001b[0m\n",
      "\u001b[1;31mKeyboardInterrupt\u001b[0m: Interrupted by user"
     ]
    }
   ],
   "source": [
    "print(\"Welcome to Tick Tack Toe!\")\n",
    "\n",
    "while True:\n",
    "    theBoard=[' ']*10\n",
    "    Player1_marker, Player2_marker=player_input()\n",
    "    \n",
    "    turn=choose_first()\n",
    "    print(turn + \" is your turn\")\n",
    "    \n",
    "    play_game= input(\"Are you ready to play? Yes or No?:  \")\n",
    "    if play_game.lower()=='yes':\n",
    "        game_on = True\n",
    "    else:\n",
    "        game_on = False\n",
    "    \n",
    "   \n",
    "    \n",
    "    while game_on:\n",
    "        if turn==\"Player1\":\n",
    "            print(\"Player 1 Turn\")\n",
    "            display_board(theBoard)\n",
    "            position=Player_choice(theBoard)\n",
    "            place_of_marker(theBoard,Player1_marker,position)\n",
    "    \n",
    "            if win_check(theBoard,Player1_marker):\n",
    "                display_board(theBoard)\n",
    "                print(\"Congrats player 1 u have won !\")\n",
    "                game_on=False\n",
    "            else:\n",
    "                if board_full_check(theBoard):\n",
    "                    display_board(theBoard)\n",
    "                    print(\"it is a draw!!\")\n",
    "                    break\n",
    "                else:\n",
    "                    turn=\"Player2\"\n",
    "        \n",
    "        else:\n",
    "            print(\"Player 2 Turn\")\n",
    "            #if turn==\"Player2\":\n",
    "            display_board(theBoard)\n",
    "            position=Player_choice(theBoard)\n",
    "            place_of_marker(theBoard,Player2_marker,position)\n",
    "    \n",
    "            if win_check(theBoard,Player2_marker):\n",
    "                display_board(theBoard)\n",
    "                print(\"Congrats player 2 u have won !\")\n",
    "                game_on=False\n",
    "            else:\n",
    "                if board_full_check(theBoard):\n",
    "                    display_board(theBoard)\n",
    "                    print(\"it is a draw!!\")\n",
    "                    break\n",
    "                else:\n",
    "                    turn=\"Player1\"\n",
    "    \n",
    "    if ask_to_play_again == False:\n",
    "        break\n",
    "            \n",
    "        \n",
    "                \n"
   ]
  },
  {
   "cell_type": "code",
   "execution_count": null,
   "id": "cf2eb557",
   "metadata": {},
   "outputs": [],
   "source": []
  },
  {
   "cell_type": "code",
   "execution_count": null,
   "id": "2c1a9dcf",
   "metadata": {},
   "outputs": [],
   "source": []
  }
 ],
 "metadata": {
  "kernelspec": {
   "display_name": "Python 3 (ipykernel)",
   "language": "python",
   "name": "python3"
  },
  "language_info": {
   "codemirror_mode": {
    "name": "ipython",
    "version": 3
   },
   "file_extension": ".py",
   "mimetype": "text/x-python",
   "name": "python",
   "nbconvert_exporter": "python",
   "pygments_lexer": "ipython3",
   "version": "3.9.12"
  }
 },
 "nbformat": 4,
 "nbformat_minor": 5
}
