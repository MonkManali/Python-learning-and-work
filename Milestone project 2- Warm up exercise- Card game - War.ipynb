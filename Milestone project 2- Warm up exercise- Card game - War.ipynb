{
 "cells": [
  {
   "cell_type": "code",
   "execution_count": 1,
   "id": "30307663",
   "metadata": {},
   "outputs": [],
   "source": [
    "# Milestone project2 - Card Game - War\n"
   ]
  },
  {
   "cell_type": "code",
   "execution_count": 80,
   "id": "082450fa",
   "metadata": {},
   "outputs": [],
   "source": [
    "#card class \n",
    "#Suit, cardRank , value"
   ]
  },
  {
   "cell_type": "code",
   "execution_count": 1,
   "id": "1e9380ec",
   "metadata": {},
   "outputs": [],
   "source": [
    "#Gobal Variable\n",
    "import random\n",
    "suits =('Diamonds','Hearts','Spades','Clubs')\n",
    "cardRanks = ('Two','Three','Four','Five','Six','Seven','Eight','Nine','Ten','Jack','Queen','King','Ace')\n",
    "value ={\"Two\":2,\"Three\":3,\"Four\":4,\"Five\":5,\"Six\":6,\"Seven\":7,\"Eight\":8,\"Nine\":9,\"Ten\":10,\"Jack\":11,\"Queen\":12,\"King\":13,\"Ace\":14}\n",
    "\n"
   ]
  },
  {
   "cell_type": "code",
   "execution_count": 2,
   "id": "b2234f2d",
   "metadata": {},
   "outputs": [],
   "source": [
    "#Create a dictionary where you can save cardRank to integer rank beacuse class.rank gives string. and we can not compare string.\n",
    "class card():       # Created as single card\n",
    "    def __init__(self,suit,cardRank):\n",
    "        self.suit=suit \n",
    "        self.cardRank=cardRank\n",
    "        self.value=value[self.cardRank]\n",
    "    \n",
    "    def __str__(self):\n",
    "        return self.cardRank +\" of \"+ self.suit\n",
    "        \n",
    "  "
   ]
  },
  {
   "cell_type": "code",
   "execution_count": 3,
   "id": "cfaa4016",
   "metadata": {},
   "outputs": [],
   "source": [
    "class Deck():       #creating a deck of 52 cards, 13 in each suit.13x4\n",
    "    def __init__(self):\n",
    "        self.bunch=[]      #Initially bunch is empty list\n",
    "        for suit in suits :\n",
    "            for cardRank in cardRanks:\n",
    "                created_card = card(suit,cardRank)     #Created the card object which has a suit and a rank\n",
    "                self.bunch.append(created_card)\n",
    "\n",
    "    def shuffle(self):        # for shuffling the 52 deck of the cards\n",
    "        random.shuffle(self.bunch)\n",
    "    def take_one(self):      #grabing one card from the deck of 52 cards.#patte vatne\n",
    "        return self.bunch.pop()"
   ]
  },
  {
   "cell_type": "code",
   "execution_count": 4,
   "id": "f38f8886",
   "metadata": {},
   "outputs": [],
   "source": [
    "class Player():\n",
    "    \n",
    "    def __init__(self,name):\n",
    "        self.name =name    #Player has a name\n",
    "        self.bunch=[]    #Player has 0 cards initially, so empty string.\n",
    "        \n",
    "    def remove_one(self):      #Player should be able to take out top card of his deck while playing, so pop(0)#\n",
    "        return self.bunch.pop(0)\n",
    "    \n",
    "    def add_cards(self,new_cards):      #player shlould be able to add a card or cards to bottom while playing\n",
    "        if type(new_cards)==type([]):           #if multiple cards\n",
    "            self.bunch.extend(new_cards)\n",
    "        else :\n",
    "            self.bunch.append(new_cards)      #if a card\n",
    "            \n",
    "    def __str__(self):\n",
    "        return f'Player{self.name} has {len(self.bunch)} cards.'\n",
    "    "
   ]
  },
  {
   "cell_type": "code",
   "execution_count": 5,
   "id": "735cf982",
   "metadata": {},
   "outputs": [],
   "source": [
    "Player1=Player(\"Chetan\")\n",
    "Player2=Player(\"Manali\")\n",
    "\n",
    "new_deck=Deck()\n",
    "\n",
    "new_deck.shuffle()"
   ]
  },
  {
   "cell_type": "code",
   "execution_count": 6,
   "id": "5a75094b",
   "metadata": {},
   "outputs": [
    {
     "data": {
      "text/plain": [
       "52"
      ]
     },
     "execution_count": 6,
     "metadata": {},
     "output_type": "execute_result"
    }
   ],
   "source": [
    "len(new_deck.bunch)     #New deck has 52 cards in shuffled manner.Now divide that into two players having 26 cards each"
   ]
  },
  {
   "cell_type": "code",
   "execution_count": 7,
   "id": "67f77fec",
   "metadata": {},
   "outputs": [],
   "source": [
    "#Now divide that into two players having 26 cards each\n",
    "for x in range(0,26):\n",
    "    Player1.add_cards(new_deck.take_one())\n",
    "    Player2.add_cards(new_deck.take_one())"
   ]
  },
  {
   "cell_type": "code",
   "execution_count": 8,
   "id": "632d7e91",
   "metadata": {},
   "outputs": [
    {
     "data": {
      "text/plain": [
       "26"
      ]
     },
     "execution_count": 8,
     "metadata": {},
     "output_type": "execute_result"
    }
   ],
   "source": [
    "len(Player2.bunch)"
   ]
  },
  {
   "cell_type": "code",
   "execution_count": 12,
   "id": "b8ed55c7",
   "metadata": {},
   "outputs": [
    {
     "name": "stdout",
     "output_type": "stream",
     "text": [
      "Round1\n",
      "Round2\n",
      "Round3\n",
      "Round4\n",
      "Round5\n",
      "Round6\n",
      "Round7\n",
      "Round8\n",
      "Round9\n",
      "Round10\n",
      "Round11\n",
      "Round12\n",
      "Round13\n",
      "Round14\n",
      "Round15\n",
      "Round16\n",
      "Round17\n",
      "Round18\n",
      "Round19\n",
      "Round20\n",
      "Round21\n",
      "Round22\n",
      "Round23\n",
      "Round24\n",
      "Round25\n",
      "Round26\n",
      "Round27\n",
      "Round28\n",
      "Round29\n",
      "Round30\n",
      "Round31\n",
      "Round32\n",
      "Round33\n",
      "Round34\n",
      "Round35\n",
      "Round36\n",
      "Round37\n",
      "Round38\n",
      "Round39\n",
      "Round40\n",
      "Round41\n",
      "Round42\n",
      "Round43\n",
      "Round44\n",
      "Round45\n",
      "Both cards are equal!! Its a war! \n",
      "Each player will draw now 5 cards aside\n",
      "Round46\n",
      "Round47\n",
      "Round48\n",
      "Round49\n",
      "Round50\n",
      "Round51\n",
      "Round52\n",
      "Round53\n",
      "Round54\n",
      "Round55\n",
      "Round56\n",
      "Round57\n",
      "Round58\n",
      "Round59\n",
      "Round60\n",
      "Round61\n",
      "Round62\n",
      "Round63\n",
      "Round64\n",
      "Round65\n",
      "Both cards are equal!! Its a war! \n",
      "Each player will draw now 5 cards aside\n",
      "Round66\n",
      "Round67\n",
      "Round68\n",
      "Round69\n",
      "Round70\n",
      "Round71\n",
      "Round72\n",
      "Round73\n",
      "Round74\n",
      "Round75\n",
      "Round76\n",
      "Round77\n",
      "Round78\n",
      "Round79\n",
      "Round80\n",
      "Round81\n",
      "Round82\n",
      "Round83\n",
      "Round84\n",
      "Round85\n",
      "Round86\n",
      "Round87\n",
      "Both cards are equal!! Its a war! \n",
      "Each player will draw now 5 cards aside\n",
      "Round88\n",
      "Round89\n",
      "Round90\n",
      "Round91\n",
      "Round92\n",
      "Round93\n",
      "Round94\n",
      "Round95\n",
      "Round96\n",
      "Round97\n",
      "Both cards are equal!! Its a war! \n",
      "Each player will draw now 5 cards aside\n",
      "Round98\n",
      "Both cards are equal!! Its a war! \n",
      "Each player will draw now 5 cards aside\n",
      "Round99\n",
      "Round100\n",
      "Round101\n",
      "Round102\n",
      "Round103\n",
      "Round104\n",
      "Both cards are equal!! Its a war! \n",
      "Each player will draw now 5 cards aside\n",
      "Round105\n",
      "Round106\n",
      "Round107\n",
      "Round108\n",
      "Round109\n",
      "Round110\n",
      "Round111\n",
      "Round112\n",
      "Round113\n",
      "Round114\n",
      "Round115\n",
      "Round116\n",
      "Round117\n",
      "Round118\n",
      "Round119\n",
      "Round120\n",
      "Round121\n",
      "Round122\n",
      "Round123\n",
      "Round124\n",
      "Round125\n",
      "Round126\n",
      "Round127\n",
      "Round128\n",
      "Round129\n",
      "Round130\n",
      "Round131\n",
      "Round132\n",
      "Round133\n",
      "Round134\n",
      "Round135\n",
      "Round136\n",
      "Both cards are equal!! Its a war! \n",
      "Player 2 dont have enough cards. SO PLAYER 1 WINS!!\n"
     ]
    }
   ],
   "source": [
    "game_on=True\n",
    "\n",
    "num_of_round=0\n",
    "while game_on:\n",
    "    num_of_round=num_of_round+1\n",
    "    print(f'Round{num_of_round}')\n",
    "    \n",
    "    if len(Player1.bunch)==0:\n",
    "        print(f'{Player1.name} is out of cards.This Game won by {Player2.name}')\n",
    "        game_on=False\n",
    "        break\n",
    "    if len(Player2.bunch)==0:\n",
    "        print(f'{Player2}is out of cards. This Game is won by {Player1}')\n",
    "        game_on=False\n",
    "        break\n",
    "              \n",
    "    #actual game when player through thier cards on the table.\n",
    "    Player1_cards_on_table=[]\n",
    "    Player1_cards_on_table.append(Player1.remove_one())       \n",
    "              \n",
    "              \n",
    "              \n",
    "    Player2_cards_on_table=[]\n",
    "    Player2_cards_on_table.append(Player2.remove_one())         \n",
    "              \n",
    "    #Now comparison of the cards\n",
    "    at_war=True\n",
    "    while at_war:\n",
    "            if Player1_cards_on_table[-1].value > Player2_cards_on_table[-1].value:\n",
    "              Player1.add_cards(Player1_cards_on_table)\n",
    "              Player1.add_cards(Player2_cards_on_table)\n",
    "              at_war=False\n",
    "              \n",
    "            elif Player1_cards_on_table[-1].value < Player2_cards_on_table[-1].value:\n",
    "              Player2.add_cards(Player1_cards_on_table)\n",
    "              Player2.add_cards(Player2_cards_on_table)\n",
    "              at_war=False\n",
    "              \n",
    "            else:\n",
    "              print (\"Both cards are equal!! Its a war! \")\n",
    "              if len(Player1.bunch) < 5:\n",
    "                  print(\"Player 1 dont have enough cards. SO PLAYER 2 WINS!!\")\n",
    "                  game_on= False\n",
    "                  break\n",
    "              elif len(Player2.bunch) < 5:\n",
    "                  print(\"Player 2 dont have enough cards. SO PLAYER 1 WINS!!\")\n",
    "                  game_on= False\n",
    "                  break\n",
    "              else:\n",
    "                  print(\"Each player will draw now 5 cards aside\")\n",
    "                  for num in range(0,5):\n",
    "                    Player1_cards_on_table.append(Player1.remove_one())\n",
    "                    Player2_cards_on_table.append(Player2.remove_one())\n",
    "                  \n",
    "              \n",
    "              \n",
    "              \n",
    "              \n",
    "              \n",
    "            \n",
    "        \n",
    "    "
   ]
  },
  {
   "cell_type": "code",
   "execution_count": 69,
   "id": "c2f29c79",
   "metadata": {},
   "outputs": [
    {
     "name": "stdout",
     "output_type": "stream",
     "text": [
      "0\n",
      "1\n",
      "2\n"
     ]
    }
   ],
   "source": [
    "for i in range(3):\n",
    "    print(i)"
   ]
  },
  {
   "cell_type": "code",
   "execution_count": null,
   "id": "34f6d36d",
   "metadata": {},
   "outputs": [],
   "source": []
  }
 ],
 "metadata": {
  "kernelspec": {
   "display_name": "Python 3 (ipykernel)",
   "language": "python",
   "name": "python3"
  },
  "language_info": {
   "codemirror_mode": {
    "name": "ipython",
    "version": 3
   },
   "file_extension": ".py",
   "mimetype": "text/x-python",
   "name": "python",
   "nbconvert_exporter": "python",
   "pygments_lexer": "ipython3",
   "version": "3.9.12"
  }
 },
 "nbformat": 4,
 "nbformat_minor": 5
}
